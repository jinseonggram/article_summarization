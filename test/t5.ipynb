{
 "cells": [
  {
   "cell_type": "code",
   "execution_count": 9,
   "outputs": [],
   "source": [
    "import json\n",
    "import pandas\n",
    "import numpy as np\n",
    "from pathlib import Path\n",
    "\n",
    "import pandas as pd\n",
    "from torch.utils.data import DataLoader, Dataset\n",
    "import pytorch_lightning as pl\n",
    "from pytorch_lightning.callbacks import ModelCheckpoint\n",
    "from pytorch_lightning.loggers import TensorBoardLogger\n",
    "from sklearn.model_selection import train_test_split\n",
    "import textwrap\n",
    "\n",
    "from transformers import (\n",
    "    AdamW,\n",
    "    T5ForConditionalGeneration,\n",
    "    T5TokenizerFast as T5Tokenizer\n",
    ")\n",
    "from tqdm.auto import tqdm"
   ],
   "metadata": {
    "collapsed": false,
    "pycharm": {
     "name": "#%%\n"
    }
   }
  },
  {
   "cell_type": "code",
   "execution_count": 8,
   "outputs": [],
   "source": [
    "import seaborn as sns\n",
    "from pylab import rcParams\n",
    "import matplotlib.pyplot as plt\n",
    "from matplotlib import rc\n",
    "\n",
    "sns.set(style='whitegrid', palette='muted', font_scale=1.2)\n",
    "rcParams['figure.figsize'] = 16, 10"
   ],
   "metadata": {
    "collapsed": false,
    "pycharm": {
     "name": "#%%\n"
    }
   }
  },
  {
   "cell_type": "code",
   "execution_count": 4,
   "outputs": [
    {
     "name": "stderr",
     "output_type": "stream",
     "text": [
      "Global seed set to 42\n"
     ]
    },
    {
     "data": {
      "text/plain": "42"
     },
     "execution_count": 4,
     "metadata": {},
     "output_type": "execute_result"
    }
   ],
   "source": [
    "pl.seed_everything(42)"
   ],
   "metadata": {
    "collapsed": false,
    "pycharm": {
     "name": "#%%\n"
    }
   }
  },
  {
   "cell_type": "code",
   "execution_count": 12,
   "outputs": [
    {
     "data": {
      "text/plain": "               author                  date  \\\n0        Chhavi Tyagi  03 Aug 2017,Thursday   \n1         Daisy Mowke  03 Aug 2017,Thursday   \n2      Arshiya Chopra  03 Aug 2017,Thursday   \n3       Sumedha Sehra  03 Aug 2017,Thursday   \n4  Aarushi Maheshwari  03 Aug 2017,Thursday   \n\n                                           headlines  \\\n0  Daman & Diu revokes mandatory Rakshabandhan in...   \n1  Malaika slams user who trolled her for 'divorc...   \n2  'Virgin' now corrected to 'Unmarried' in IGIMS...   \n3  Aaj aapne pakad liya: LeT man Dujana before be...   \n4  Hotel staff to get training to spot signs of s...   \n\n                                           read_more  \\\n0  http://www.hindustantimes.com/india-news/raksh...   \n1  http://www.hindustantimes.com/bollywood/malaik...   \n2  http://www.hindustantimes.com/patna/bihar-igim...   \n3  http://indiatoday.intoday.in/story/abu-dujana-...   \n4  http://indiatoday.intoday.in/story/sex-traffic...   \n\n                                                text  \\\n0  The Administration of Union Territory Daman an...   \n1  Malaika Arora slammed an Instagram user who tr...   \n2  The Indira Gandhi Institute of Medical Science...   \n3  Lashkar-e-Taiba's Kashmir commander Abu Dujana...   \n4  Hotels in Maharashtra will train their staff t...   \n\n                                               ctext  \n0  The Daman and Diu administration on Wednesday ...  \n1  From her special numbers to TV?appearances, Bo...  \n2  The Indira Gandhi Institute of Medical Science...  \n3  Lashkar-e-Taiba's Kashmir commander Abu Dujana...  \n4  Hotels in Mumbai and other Indian cities are t...  ",
      "text/html": "<div>\n<style scoped>\n    .dataframe tbody tr th:only-of-type {\n        vertical-align: middle;\n    }\n\n    .dataframe tbody tr th {\n        vertical-align: top;\n    }\n\n    .dataframe thead th {\n        text-align: right;\n    }\n</style>\n<table border=\"1\" class=\"dataframe\">\n  <thead>\n    <tr style=\"text-align: right;\">\n      <th></th>\n      <th>author</th>\n      <th>date</th>\n      <th>headlines</th>\n      <th>read_more</th>\n      <th>text</th>\n      <th>ctext</th>\n    </tr>\n  </thead>\n  <tbody>\n    <tr>\n      <th>0</th>\n      <td>Chhavi Tyagi</td>\n      <td>03 Aug 2017,Thursday</td>\n      <td>Daman &amp; Diu revokes mandatory Rakshabandhan in...</td>\n      <td>http://www.hindustantimes.com/india-news/raksh...</td>\n      <td>The Administration of Union Territory Daman an...</td>\n      <td>The Daman and Diu administration on Wednesday ...</td>\n    </tr>\n    <tr>\n      <th>1</th>\n      <td>Daisy Mowke</td>\n      <td>03 Aug 2017,Thursday</td>\n      <td>Malaika slams user who trolled her for 'divorc...</td>\n      <td>http://www.hindustantimes.com/bollywood/malaik...</td>\n      <td>Malaika Arora slammed an Instagram user who tr...</td>\n      <td>From her special numbers to TV?appearances, Bo...</td>\n    </tr>\n    <tr>\n      <th>2</th>\n      <td>Arshiya Chopra</td>\n      <td>03 Aug 2017,Thursday</td>\n      <td>'Virgin' now corrected to 'Unmarried' in IGIMS...</td>\n      <td>http://www.hindustantimes.com/patna/bihar-igim...</td>\n      <td>The Indira Gandhi Institute of Medical Science...</td>\n      <td>The Indira Gandhi Institute of Medical Science...</td>\n    </tr>\n    <tr>\n      <th>3</th>\n      <td>Sumedha Sehra</td>\n      <td>03 Aug 2017,Thursday</td>\n      <td>Aaj aapne pakad liya: LeT man Dujana before be...</td>\n      <td>http://indiatoday.intoday.in/story/abu-dujana-...</td>\n      <td>Lashkar-e-Taiba's Kashmir commander Abu Dujana...</td>\n      <td>Lashkar-e-Taiba's Kashmir commander Abu Dujana...</td>\n    </tr>\n    <tr>\n      <th>4</th>\n      <td>Aarushi Maheshwari</td>\n      <td>03 Aug 2017,Thursday</td>\n      <td>Hotel staff to get training to spot signs of s...</td>\n      <td>http://indiatoday.intoday.in/story/sex-traffic...</td>\n      <td>Hotels in Maharashtra will train their staff t...</td>\n      <td>Hotels in Mumbai and other Indian cities are t...</td>\n    </tr>\n  </tbody>\n</table>\n</div>"
     },
     "execution_count": 12,
     "metadata": {},
     "output_type": "execute_result"
    }
   ],
   "source": [
    "df = pd.read_csv('data/news_summary.csv', encoding=\"latin-1\")\n",
    "df.head()"
   ],
   "metadata": {
    "collapsed": false,
    "pycharm": {
     "name": "#%%\n"
    }
   }
  },
  {
   "cell_type": "code",
   "execution_count": 15,
   "outputs": [
    {
     "data": {
      "text/plain": "                                                text  \\\n0  The Administration of Union Territory Daman an...   \n1  Malaika Arora slammed an Instagram user who tr...   \n2  The Indira Gandhi Institute of Medical Science...   \n3  Lashkar-e-Taiba's Kashmir commander Abu Dujana...   \n4  Hotels in Maharashtra will train their staff t...   \n\n                                               ctext  \n0  The Daman and Diu administration on Wednesday ...  \n1  From her special numbers to TV?appearances, Bo...  \n2  The Indira Gandhi Institute of Medical Science...  \n3  Lashkar-e-Taiba's Kashmir commander Abu Dujana...  \n4  Hotels in Mumbai and other Indian cities are t...  ",
      "text/html": "<div>\n<style scoped>\n    .dataframe tbody tr th:only-of-type {\n        vertical-align: middle;\n    }\n\n    .dataframe tbody tr th {\n        vertical-align: top;\n    }\n\n    .dataframe thead th {\n        text-align: right;\n    }\n</style>\n<table border=\"1\" class=\"dataframe\">\n  <thead>\n    <tr style=\"text-align: right;\">\n      <th></th>\n      <th>text</th>\n      <th>ctext</th>\n    </tr>\n  </thead>\n  <tbody>\n    <tr>\n      <th>0</th>\n      <td>The Administration of Union Territory Daman an...</td>\n      <td>The Daman and Diu administration on Wednesday ...</td>\n    </tr>\n    <tr>\n      <th>1</th>\n      <td>Malaika Arora slammed an Instagram user who tr...</td>\n      <td>From her special numbers to TV?appearances, Bo...</td>\n    </tr>\n    <tr>\n      <th>2</th>\n      <td>The Indira Gandhi Institute of Medical Science...</td>\n      <td>The Indira Gandhi Institute of Medical Science...</td>\n    </tr>\n    <tr>\n      <th>3</th>\n      <td>Lashkar-e-Taiba's Kashmir commander Abu Dujana...</td>\n      <td>Lashkar-e-Taiba's Kashmir commander Abu Dujana...</td>\n    </tr>\n    <tr>\n      <th>4</th>\n      <td>Hotels in Maharashtra will train their staff t...</td>\n      <td>Hotels in Mumbai and other Indian cities are t...</td>\n    </tr>\n  </tbody>\n</table>\n</div>"
     },
     "execution_count": 15,
     "metadata": {},
     "output_type": "execute_result"
    }
   ],
   "source": [
    "df = df[[\"text\", \"ctext\"]]\n",
    "df.head()"
   ],
   "metadata": {
    "collapsed": false,
    "pycharm": {
     "name": "#%%\n"
    }
   }
  },
  {
   "cell_type": "code",
   "execution_count": 17,
   "outputs": [
    {
     "data": {
      "text/plain": "                                             summary  \\\n0  The Administration of Union Territory Daman an...   \n1  Malaika Arora slammed an Instagram user who tr...   \n2  The Indira Gandhi Institute of Medical Science...   \n3  Lashkar-e-Taiba's Kashmir commander Abu Dujana...   \n4  Hotels in Maharashtra will train their staff t...   \n\n                                                text  \n0  The Daman and Diu administration on Wednesday ...  \n1  From her special numbers to TV?appearances, Bo...  \n2  The Indira Gandhi Institute of Medical Science...  \n3  Lashkar-e-Taiba's Kashmir commander Abu Dujana...  \n4  Hotels in Mumbai and other Indian cities are t...  ",
      "text/html": "<div>\n<style scoped>\n    .dataframe tbody tr th:only-of-type {\n        vertical-align: middle;\n    }\n\n    .dataframe tbody tr th {\n        vertical-align: top;\n    }\n\n    .dataframe thead th {\n        text-align: right;\n    }\n</style>\n<table border=\"1\" class=\"dataframe\">\n  <thead>\n    <tr style=\"text-align: right;\">\n      <th></th>\n      <th>summary</th>\n      <th>text</th>\n    </tr>\n  </thead>\n  <tbody>\n    <tr>\n      <th>0</th>\n      <td>The Administration of Union Territory Daman an...</td>\n      <td>The Daman and Diu administration on Wednesday ...</td>\n    </tr>\n    <tr>\n      <th>1</th>\n      <td>Malaika Arora slammed an Instagram user who tr...</td>\n      <td>From her special numbers to TV?appearances, Bo...</td>\n    </tr>\n    <tr>\n      <th>2</th>\n      <td>The Indira Gandhi Institute of Medical Science...</td>\n      <td>The Indira Gandhi Institute of Medical Science...</td>\n    </tr>\n    <tr>\n      <th>3</th>\n      <td>Lashkar-e-Taiba's Kashmir commander Abu Dujana...</td>\n      <td>Lashkar-e-Taiba's Kashmir commander Abu Dujana...</td>\n    </tr>\n    <tr>\n      <th>4</th>\n      <td>Hotels in Maharashtra will train their staff t...</td>\n      <td>Hotels in Mumbai and other Indian cities are t...</td>\n    </tr>\n  </tbody>\n</table>\n</div>"
     },
     "execution_count": 17,
     "metadata": {},
     "output_type": "execute_result"
    }
   ],
   "source": [
    "df.columns = [\"summary\", \"text\"]\n",
    "df = df.dropna()\n",
    "df.head()"
   ],
   "metadata": {
    "collapsed": false,
    "pycharm": {
     "name": "#%%\n"
    }
   }
  },
  {
   "cell_type": "code",
   "execution_count": 18,
   "outputs": [
    {
     "data": {
      "text/plain": "(4396, 2)"
     },
     "execution_count": 18,
     "metadata": {},
     "output_type": "execute_result"
    }
   ],
   "source": [
    "df.shape"
   ],
   "metadata": {
    "collapsed": false,
    "pycharm": {
     "name": "#%%\n"
    }
   }
  },
  {
   "cell_type": "code",
   "execution_count": 19,
   "outputs": [
    {
     "data": {
      "text/plain": "((3956, 2), (440, 2))"
     },
     "execution_count": 19,
     "metadata": {},
     "output_type": "execute_result"
    }
   ],
   "source": [
    "train_df, test_df = train_test_split(df, test_size=0.1)\n",
    "train_df.shape, test_df.shape"
   ],
   "metadata": {
    "collapsed": false,
    "pycharm": {
     "name": "#%%\n"
    }
   }
  },
  {
   "cell_type": "code",
   "execution_count": 20,
   "outputs": [],
   "source": [
    "class NewsSummaryDataset(Dataset):\n",
    "\n",
    "    def __init__(\n",
    "            self,\n",
    "            data: pd.DataFrame,\n",
    "            tokenizer: T5Tokenizer,\n",
    "            text_max_token_len: int = 512,\n",
    "            summary_max_token_len: int = 128\n",
    "    ):\n",
    "        self.tokenizer = tokenizer\n",
    "        self.data = data\n",
    "        self.text_max_token_len = text_max_token_len\n",
    "        self.summary_max_token_len = summary_max_token_len\n",
    "\n",
    "    def __len__(self):\n",
    "        return len(self.data)\n",
    "\n",
    "    def __getitem__(self, index: int):\n",
    "        data_row = self.data.iloc[index]\n",
    "\n",
    "        text = data_row['text']\n",
    "\n",
    "        text_encoding = self.tokenizer(\n",
    "            text,\n",
    "            max_length=self.text_max_token_len,\n",
    "            padding=\"max_length\",\n",
    "            truncation=True,\n",
    "            return_attention_mask=True,\n",
    "            add_special_tokens=True,\n",
    "            return_tensors=\"pt\"\n",
    "        )\n",
    "\n",
    "        summary_encoding = self.tokenizer(\n",
    "            data_row['summary'],\n",
    "            max_length=self.summary_max_token_len,\n",
    "            padding=\"max_length\",\n",
    "            truncation=True,\n",
    "            return_attention_mask=True,\n",
    "            add_special_tokens=True,\n",
    "            return_tensors=\"pt\"\n",
    "        )\n",
    "\n",
    "        labels = summary_encoding['input_ids']\n",
    "        labels[labels == 0] = -100\n",
    "\n",
    "        return dict(\n",
    "            text=text,\n",
    "            summary_encoding=data_row['summary'],\n",
    "            text_input_ids=text_encoding['input_ids'].flatten(),\n",
    "            text_attention_mask=text_encoding['attention_mask'].flatten(),\n",
    "            labels=labels.flatten(),\n",
    "            labels_attention_mask=summary_encoding[\"attention_mask\"].flatten()\n",
    "        )"
   ],
   "metadata": {
    "collapsed": false,
    "pycharm": {
     "name": "#%%\n"
    }
   }
  },
  {
   "cell_type": "code",
   "execution_count": 22,
   "outputs": [],
   "source": [
    "class NewsSummaryDataModule(pl.LightningDataModule):\n",
    "\n",
    "    def __init__(\n",
    "            self,\n",
    "            train_df: pd.DataFrame,\n",
    "            test_df: pd.DataFrame,\n",
    "            tokenizer: T5Tokenizer,\n",
    "            batch_size: int = 8,\n",
    "            text_max_token_len: int = 512,\n",
    "            summary_max_token_len: int = 128\n",
    "    ):\n",
    "\n",
    "        super().__init__()\n",
    "\n",
    "        self.train_df = train_df\n",
    "        self.test_df = test_df\n",
    "\n",
    "        self.batch_size = batch_size\n",
    "        self.tokenizer = tokenizer\n",
    "        self.text_max_token_len = text_max_token_len\n",
    "        self.summary_max_token_len = summary_max_token_len\n",
    "\n",
    "\n",
    "    def setup(self, stage=None):\n",
    "        self.train_dataset = NewsSummaryDataset(\n",
    "            self.train_df,\n",
    "            self.tokenizer,\n",
    "            self.text_max_token_len,\n",
    "            self.summary_max_token_len\n",
    "        )\n",
    "\n",
    "        self.test_dataset = NewsSummaryDataset(\n",
    "            self.test_df,\n",
    "            self.tokenizer,\n",
    "            self.text_max_token_len,\n",
    "            self.summary_max_token_len\n",
    "        )\n",
    "\n",
    "    def train_dataloader(self):\n",
    "        return DataLoader(\n",
    "            self.train_dataset,\n",
    "            batch_size=self.batch_size,\n",
    "            shuffle=True,\n",
    "            num_workers=2\n",
    "        )\n",
    "\n",
    "    def val_dataloader(self):\n",
    "        return DataLoader(\n",
    "            self.test_dataset,\n",
    "            batch_size=self.batch_size,\n",
    "            shuffle=False,\n",
    "            num_workers=2\n",
    "        )"
   ],
   "metadata": {
    "collapsed": false,
    "pycharm": {
     "name": "#%%\n"
    }
   }
  },
  {
   "cell_type": "code",
   "execution_count": 24,
   "outputs": [
    {
     "data": {
      "text/plain": "Downloading:   0%|          | 0.00/792k [00:00<?, ?B/s]",
      "application/vnd.jupyter.widget-view+json": {
       "version_major": 2,
       "version_minor": 0,
       "model_id": "a03134a575ae4abfaa27f01da7c6a065"
      }
     },
     "metadata": {},
     "output_type": "display_data"
    },
    {
     "data": {
      "text/plain": "Downloading:   0%|          | 0.00/1.39M [00:00<?, ?B/s]",
      "application/vnd.jupyter.widget-view+json": {
       "version_major": 2,
       "version_minor": 0,
       "model_id": "3a67d9659c91453286e65133cfbcd574"
      }
     },
     "metadata": {},
     "output_type": "display_data"
    },
    {
     "data": {
      "text/plain": "Downloading:   0%|          | 0.00/1.20k [00:00<?, ?B/s]",
      "application/vnd.jupyter.widget-view+json": {
       "version_major": 2,
       "version_minor": 0,
       "model_id": "211b6a52f1004871b1e615731850566b"
      }
     },
     "metadata": {},
     "output_type": "display_data"
    },
    {
     "name": "stderr",
     "output_type": "stream",
     "text": [
      "/Users/ijinseong/opt/anaconda3/envs/ai/lib/python3.10/site-packages/transformers/models/t5/tokenization_t5_fast.py:156: FutureWarning: This tokenizer was incorrectly instantiated with a model max length of 512 which will be corrected in Transformers v5.\n",
      "For now, this behavior is kept to avoid breaking backwards compatibility when padding/encoding with `truncation is True`.\n",
      "- Be aware that you SHOULD NOT rely on t5-base automatically truncating your input to 512 when padding/encoding.\n",
      "- If you want to encode/pad to sequences longer than 512 you can either instantiate this tokenizer with `model_max_length` or pass `max_length` when encoding/padding.\n",
      "- To avoid this warning, please instantiate this tokenizer with `model_max_length` set to your preferred value.\n",
      "  warnings.warn(\n"
     ]
    }
   ],
   "source": [
    "MODEL_NAME = \"t5-base\"\n",
    "\n",
    "toekenizer = T5Tokenizer.from_pretrained(MODEL_NAME)"
   ],
   "metadata": {
    "collapsed": false,
    "pycharm": {
     "name": "#%%\n"
    }
   }
  },
  {
   "cell_type": "code",
   "execution_count": 29,
   "outputs": [],
   "source": [
    "text_token_counts, summary_token_counts = [], []\n",
    "\n",
    "for _, row in train_df.iterrows():\n",
    "    text_token_count = len(toekenizer.encode(row[\"text\"]))\n",
    "    text_token_counts.append(text_token_count)\n",
    "\n",
    "    summary_token_count = len(toekenizer.encode(row[\"summary\"]))\n",
    "    summary_token_counts.append(summary_token_counts)"
   ],
   "metadata": {
    "collapsed": false,
    "pycharm": {
     "name": "#%%\n"
    }
   }
  },
  {
   "cell_type": "code",
   "execution_count": 40,
   "outputs": [
    {
     "name": "stdout",
     "output_type": "stream",
     "text": [
      "749\n",
      "[183, 689, 304, 443, 335, 501, 262, 164, 519, 425, 434, 580, 1247, 382, 252, 338, 415, 463, 413, 279, 155, 818, 215, 353, 397, 1364, 750, 531, 358, 1011, 216, 141, 421, 470, 265, 466, 382, 267, 1336, 382, 380, 414, 91, 195, 126, 687, 459, 354, 541, 403, 300, 538, 331, 74, 277, 867, 326, 982, 481, 62, 998, 962, 1794, 195, 883, 277, 200, 487, 274, 267, 210, 158, 436, 493, 300, 277, 286, 196, 246, 273, 417, 172, 1022, 1043, 2069, 260, 319, 291, 314, 447, 170, 176, 222, 623, 1947, 261, 301, 377, 349, 452, 860, 609, 670, 188, 546, 3192, 525, 256, 363, 1191, 278, 6442, 318, 510, 349, 102, 451, 310, 346, 437, 439, 38, 260, 840, 464, 402, 705, 367, 426, 440, 207, 309, 1506, 1398, 405, 894, 246, 417, 162, 498, 462, 786, 746, 505, 640, 877, 375, 2213, 393, 280, 589, 206, 678, 798, 540, 644, 204, 410, 78, 436, 405, 721, 428, 71, 667, 421, 391, 598, 1632, 824, 352, 601, 478, 527, 31, 241, 435, 465, 218, 948, 358, 495, 649, 487, 293, 304, 450, 569, 441, 197, 433, 908, 273, 485, 289, 373, 666, 420, 576, 221, 387, 206, 929, 371, 136, 584, 301, 650, 80, 660, 374, 336, 667, 341, 668, 615, 383, 333, 258, 1166, 418, 322, 597, 426, 890, 546, 557, 196, 193, 296, 439, 509, 623, 462, 371, 645, 520, 730, 319, 297, 353, 822, 386, 306, 460, 320, 359, 265, 154, 444, 560, 424, 905, 452, 316, 333, 453, 449, 716, 545, 178, 305, 276, 240, 367, 226, 217, 333, 360, 142, 588, 544, 115, 470, 155, 156, 294, 204, 562, 584, 269, 280, 517, 742, 425, 337, 437, 421, 275, 409, 472, 750, 42, 571, 297, 217, 793, 745, 806, 460, 1027, 788, 266, 719, 120, 454, 183, 257, 397, 535, 81, 352, 330, 383, 359, 1477, 264, 704, 473, 724, 220, 540, 777, 301, 441, 621, 419, 397, 597, 179, 461, 269, 1834, 758, 296, 289, 431, 310, 299, 460, 469, 104, 214, 361, 201, 350, 358, 494, 762, 206, 952, 706, 521, 250, 904, 2213, 138, 609, 453, 327, 1692, 463, 1855, 338, 170, 161, 245, 618, 876, 544, 333, 259, 516, 955, 312, 890, 418, 1451, 3220, 226, 339, 103, 315, 296, 421, 141, 523, 233, 342, 263, 109, 135, 430, 727, 2337, 258, 391, 408, 1274, 800, 322, 280, 616, 742, 691, 269, 304, 411, 242, 1364, 85, 239, 321, 104, 617, 505, 285, 570, 496, 946, 200, 432, 228, 231, 304, 432, 159, 638, 305, 573, 428, 192, 784, 1097, 1677, 411, 209, 283, 170, 451, 392, 501, 450, 374, 145, 265, 431, 742, 843, 497, 138, 430, 1108, 582, 369, 956, 462, 316, 698, 942, 424, 589, 347, 162, 99, 214, 224, 293, 1011, 857, 356, 699, 714, 233, 1622, 780, 486, 541, 697, 960, 689, 60, 849, 364, 553, 391, 1042, 441, 198, 304, 1020, 349, 395, 918, 79, 596, 514, 946, 296, 112, 548, 312, 356, 1104, 1024, 151, 570, 137, 727, 298, 397, 193, 380, 567, 582, 416, 233, 220, 545, 502, 224, 181, 116, 191, 375, 227, 60, 368, 357, 482, 317, 222, 366, 184, 715, 513, 193, 468, 296, 183, 651, 410, 407, 347, 455, 665, 303, 1057, 327, 117, 318, 362, 354, 553, 270, 451, 256, 530, 3192, 933, 535, 258, 876, 746, 337, 6153, 528, 2213, 620, 371, 700, 187, 585, 287, 370, 215, 178, 783, 195, 82, 410, 71, 291, 386, 725, 538, 367, 469, 528, 569, 177, 577, 966, 270, 266, 587, 180, 227, 543, 252, 903, 720, 545, 807, 44, 140, 454, 403, 54, 326, 647, 410, 326, 425, 772, 566, 224, 299, 238, 794, 212, 254, 935, 513, 139, 2058, 285, 399, 91, 391, 387, 271, 217, 227, 518, 420, 438, 450, 318, 527, 95, 400, 503, 427, 558, 278, 342, 436, 1374, 453, 599, 333, 1855, 366, 445, 161, 497, 795, 654, 395, 409, 526, 395, 656, 168, 399, 702, 1156, 265, 288, 245, 225, 389, 653, 304, 181, 314, 346, 218, 585, 728, 415, 148, 262, 511, 291, 643, 555, 3329, 324, 724, 300, 234, 4498, 272, 535, 363, 407, 394, 367, 218, 730, 366, 245, 614, 511, 503, 476, 318, 773, 270, 766, 838, 806, 475, 681, 194, 382, 588, 387, 1241, 275, 441, 444, 457, 137, 277, 741, 268, 577, 1036, 354, 389, 335, 1266, 221, 389, 669, 277, 843, 676, 433, 503, 188, 561, 315, 156, 231, 395, 543, 370, 788, 376, 58, 1203, 579, 37, 409, 713, 738, 1364, 312, 1183, 531, 1242, 921, 317, 259, 524, 120, 314, 349, 602, 1111, 485, 246, 627, 1322, 416, 143, 2837, 762, 212, 250, 706, 2909, 350, 399, 341, 650, 215, 426, 168, 480, 748, 549, 346, 2501, 681, 508, 373, 634, 290, 237, 306, 494, 631, 699, 160, 254, 246, 435, 697, 402, 541, 123, 234, 314, 469, 415, 670, 623, 434, 864, 708, 1323, 102, 738, 301, 55, 1356, 656, 809, 1696, 450, 485, 277, 329, 198, 474, 285, 642, 70, 820, 277, 853, 733, 408, 39, 377, 275, 337, 562, 503, 865, 622, 132, 950, 722, 463, 590, 672, 97, 534, 159, 305, 935, 406, 244, 360, 426, 352, 380, 937, 231, 408, 1248, 444, 481, 281, 624, 119, 220, 385, 358, 465, 692, 1088, 592, 408, 349, 709, 388, 250, 543, 606, 279, 706, 613, 446, 587, 303, 806, 211, 423, 998, 413, 601, 241, 399, 563, 586, 273, 195, 423, 525, 100, 664, 600, 612, 965, 211, 155, 194, 432, 189, 474, 543, 214, 258, 331, 636, 196, 454, 364, 141, 633, 498, 7651, 519, 252, 102, 508, 213, 456, 760, 454, 598, 358, 237, 689, 869, 267, 512, 270, 400, 387, 29, 247, 169, 198, 131, 649, 447, 311, 86, 154, 461, 360, 170, 318, 867, 316, 654, 201, 632, 529, 427, 356, 176, 509, 434, 442, 1179, 433, 367, 921, 336, 844, 147, 706, 621, 29, 212, 393, 265, 418, 813, 3220, 479, 422, 495, 850, 162, 222, 761, 354, 363, 454, 769, 238, 1342, 488, 402, 205, 832, 654, 434, 302, 395, 395, 245, 161, 416, 468, 499, 605, 500, 604, 432, 815, 399, 233, 515, 304, 425, 1364, 513, 343, 113, 493, 269, 58, 159, 526, 1256, 603, 258, 578, 1403, 4917, 686, 261, 618, 135, 593, 462, 159, 631, 215, 386, 1226, 316, 272, 527, 225, 341, 347, 432, 246, 571, 499, 240, 391, 403, 120, 228, 289, 488, 566, 183, 130, 373, 906, 541, 648, 357, 49, 569, 409, 372, 386, 246, 604, 187, 341, 672, 373, 358, 986, 150, 358, 503, 349, 111, 787, 834, 325, 134, 108, 545, 134, 481, 784, 457, 190, 300, 185, 261, 447, 884, 321, 176, 1095, 824, 488, 861, 921, 487, 636, 530, 183, 198, 350, 481, 377, 306, 955, 260, 861, 1366, 724, 91, 455, 696, 350, 318, 504, 379, 557, 237, 1360, 809, 329, 346, 310, 309, 895, 123, 482, 387, 460, 225, 333, 359, 527, 568, 573, 285, 335, 521, 421, 294, 305, 742, 670, 660, 398, 426, 476, 334, 187, 615, 185, 146, 31, 324, 638, 565, 267, 494, 741, 620, 1473, 598, 281, 563, 574, 955, 263, 478, 663, 395, 95, 351, 356, 474, 342, 555, 233, 1066, 566, 554, 306, 633, 518, 782, 39, 143, 513, 310, 361, 689, 793, 250, 1193, 811, 618, 192, 940, 279, 518, 112, 171, 326, 309, 489, 241, 1087, 1123, 392, 186, 558, 454, 457, 610, 515, 437, 479, 343, 437, 1121, 136, 542, 727, 935, 250, 491, 332, 4313, 214, 1407, 1500, 190, 499, 4967, 271, 301, 589, 285, 899, 73, 220, 383, 278, 894, 564, 412, 620, 342, 522, 626, 643, 521, 525, 405, 388, 463, 302, 226, 329, 367, 307, 240, 373, 910, 269, 954, 222, 52, 1097, 419, 189, 553, 671, 270, 640, 2891, 173, 377, 190, 360, 351, 443, 431, 423, 456, 267, 29, 121, 492, 256, 162, 79, 692, 483, 25, 668, 57, 282, 754, 214, 202, 188, 267, 1266, 1020, 1046, 234, 249, 150, 140, 547, 232, 329, 341, 854, 87, 632, 332, 831, 506, 608, 343, 762, 649, 434, 448, 214, 501, 362, 863, 811, 315, 4065, 323, 300, 812, 956, 716, 917, 611, 552, 582, 239, 204, 1083, 535, 355, 567, 531, 443, 354, 391, 1246, 38, 319, 413, 531, 115, 467, 355, 487, 113, 510, 279, 342, 458, 540, 681, 252, 364, 459, 561, 689, 658, 667, 237, 499, 380, 561, 275, 397, 482, 433, 829, 178, 835, 1746, 461, 393, 610, 1010, 411, 268, 549, 476, 647, 459, 437, 461, 454, 199, 281, 389, 349, 307, 484, 740, 296, 261, 341, 188, 591, 499, 475, 456, 408, 764, 234, 228, 607, 715, 529, 419, 813, 656, 448, 354, 583, 388, 270, 390, 607, 423, 612, 321, 899, 446, 1151, 262, 820, 975, 385, 249, 404, 386, 323, 319, 676, 277, 413, 644, 667, 617, 156, 272, 388, 441, 490, 236, 760, 243, 385, 578, 1068, 463, 665, 1064, 342, 435, 862, 792, 388, 385, 745, 189, 560, 536, 1311, 297, 618, 172, 504, 792, 146, 787, 178, 778, 366, 221, 258, 438, 860, 121, 418, 1487, 1084, 94, 332, 373, 381, 469, 363, 141, 330, 653, 628, 462, 450, 260, 2213, 365, 323, 733, 671, 674, 1564, 972, 780, 472, 1155, 1084, 306, 331, 551, 196, 471, 636, 644, 320, 381, 570, 757, 114, 195, 324, 443, 659, 493, 744, 1336, 570, 589, 600, 247, 294, 193, 1364, 409, 621, 1348, 396, 342, 320, 696, 853, 217, 469, 399, 577, 94, 646, 164, 79, 1278, 133, 100, 1017, 575, 90, 689, 250, 534, 411, 462, 416, 598, 310, 370, 343, 505, 719, 817, 1173, 440, 141, 689, 397, 403, 218, 663, 549, 466, 121, 1015, 343, 392, 732, 996, 582, 483, 557, 348, 465, 511, 341, 438, 424, 513, 700, 184, 437, 789, 705, 371, 251, 301, 123, 363, 761, 274, 788, 319, 158, 566, 815, 501, 333, 482, 330, 603, 490, 451, 750, 534, 240, 327, 639, 373, 522, 324, 387, 735, 107, 375, 416, 564, 619, 396, 983, 243, 457, 644, 2213, 203, 869, 772, 736, 421, 200, 199, 298, 348, 367, 445, 493, 410, 326, 663, 485, 394, 368, 521, 204, 264, 479, 294, 248, 509, 450, 287, 326, 1244, 221, 962, 423, 467, 276, 417, 1193, 291, 1873, 69, 635, 640, 331, 558, 156, 1223, 80, 670, 79, 334, 766, 715, 146, 643, 382, 188, 160, 297, 222, 372, 254, 181, 368, 471, 225, 729, 6269, 78, 549, 583, 693, 405, 736, 404, 419, 43, 727, 110, 362, 243, 483, 1190, 254, 406, 410, 336, 247, 872, 400, 265, 124, 350, 676, 159, 455, 410, 235, 247, 450, 735, 471, 1007, 365, 382, 206, 44, 597, 199, 154, 1260, 199, 186, 327, 765, 373, 116, 196, 176, 160, 403, 279, 399, 363, 351, 634, 401, 314, 245, 538, 973, 1591, 1883, 1849, 413, 399, 59, 229, 192, 906, 907, 620, 441, 876, 1182, 446, 239, 356, 414, 327, 375, 474, 208, 761, 649, 335, 418, 787, 378, 423, 367, 238, 345, 124, 173, 248, 545, 396, 64, 833, 649, 491, 268, 272, 314, 154, 339, 64, 411, 908, 279, 37, 246, 944, 419, 489, 381, 122, 65, 574, 480, 589, 16506, 653, 181, 1841, 386, 193, 375, 209, 786, 606, 194, 1018, 604, 539, 378, 618, 670, 387, 753, 425, 697, 472, 163, 451, 642, 1083, 608, 389, 53, 576, 786, 285, 462, 163, 1143, 1227, 555, 284, 2213, 860, 547, 545, 525, 770, 565, 1420, 383, 631, 260, 91, 224, 218, 225, 444, 692, 576, 79, 448, 429, 582, 538, 830, 215, 472, 266, 349, 257, 137, 652, 309, 427, 173, 157, 484, 233, 94, 168, 238, 791, 555, 439, 525, 564, 144, 763, 501, 650, 797, 403, 441, 951, 257, 179, 381, 150, 935, 271, 318, 547, 668, 122, 279, 425, 589, 977, 369, 1190, 186, 723, 95, 1038, 306, 465, 325, 574, 263, 1173, 591, 615, 555, 858, 593, 203, 850, 49, 66, 145, 171, 359, 430, 388, 386, 405, 640, 538, 95, 195, 479, 349, 340, 237, 360, 201, 488, 578, 313, 450, 339, 236, 217, 833, 339, 299, 386, 483, 374, 186, 1006, 460, 185, 312, 526, 511, 393, 423, 651, 508, 1273, 552, 534, 589, 318, 708, 195, 41, 556, 135, 695, 393, 458, 765, 89, 241, 1342, 2772, 161, 348, 531, 180, 129, 163, 90, 189, 435, 159, 442, 651, 798, 210, 460, 568, 292, 248, 646, 533, 924, 736, 106, 192, 230, 505, 386, 663, 385, 573, 340, 198, 459, 2662, 160, 474, 531, 508, 540, 331, 2155, 1236, 767, 3643, 527, 823, 117, 229, 235, 588, 459, 589, 560, 674, 183, 241, 596, 899, 297, 434, 440, 90, 478, 138, 162, 723, 426, 928, 647, 421, 476, 95, 71, 296, 575, 1217, 22, 1364, 382, 416, 343, 225, 610, 448, 892, 333, 787, 369, 1022, 412, 280, 446, 503, 234, 489, 790, 406, 415, 435, 720, 464, 489, 322, 1250, 357, 49, 520, 478, 704, 440, 496, 582, 155, 96, 529, 373, 383, 335, 553, 344, 854, 581, 424, 384, 774, 253, 825, 775, 1258, 351, 808, 896, 1203, 266, 704, 233, 1079, 204, 337, 235, 142, 474, 197, 232, 704, 1902, 211, 594, 827, 611, 352, 366, 169, 733, 303, 202, 398, 197, 1708, 1017, 350, 488, 499, 553, 474, 291, 864, 205, 905, 397, 797, 874, 1236, 498, 1135, 338, 171, 63, 80, 65, 497, 1017, 183, 578, 818, 258, 718, 510, 944, 478, 297, 812, 357, 167, 718, 348, 861, 273, 299, 291, 697, 769, 242, 669, 447, 473, 481, 663, 457, 998, 281, 185, 609, 313, 627, 1364, 704, 316, 524, 239, 506, 408, 358, 951, 134, 552, 508, 134, 469, 125, 1570, 677, 224, 202, 824, 100, 534, 388, 492, 610, 291, 1043, 332, 717, 325, 191, 140, 1468, 403, 129, 911, 433, 235, 601, 196, 188, 506, 2837, 912, 102, 647, 216, 1357, 491, 1048, 361, 1091, 637, 420, 503, 473, 105, 599, 369, 681, 183, 400, 1031, 1100, 117, 441, 312, 313, 582, 461, 256, 903, 241, 480, 537, 642, 315, 557, 294, 548, 175, 239, 344, 87, 467, 648, 329, 141, 237, 473, 281, 486, 538, 461, 135, 479, 6269, 461, 130, 550, 223, 792, 676, 470, 354, 307, 405, 261, 401, 1050, 527, 361, 344, 1039, 841, 988, 5292, 619, 176, 324, 425, 749, 487, 805, 684, 251, 47, 499, 1509, 315, 561, 484, 330, 292, 383, 405, 526, 463, 666, 529, 855, 215, 551, 671, 1079, 623, 848, 489, 204, 390, 106, 487, 271, 672, 621, 502, 224, 687, 690, 465, 800, 314, 207, 1364, 553, 665, 514, 577, 455, 260, 368, 577, 1053, 689, 480, 376, 43, 1106, 1048, 571, 1072, 168, 229, 85, 326, 211, 930, 292, 821, 56, 841, 678, 926, 727, 1357, 1495, 366, 637, 536, 255, 424, 347, 436, 1236, 1071, 99, 428, 608, 317, 325, 631, 507, 242, 275, 527, 673, 348, 131, 805, 306, 365, 260, 133, 449, 330, 565, 656, 428, 638, 681, 485, 589, 182, 259, 296, 510, 1185, 507, 106, 378, 522, 266, 159, 290, 308, 237, 921, 163, 91, 736, 137, 261, 366, 657, 451, 309, 816, 1587, 566, 263, 626, 404, 310, 784, 292, 331, 654, 441, 286, 790, 501, 101, 500, 684, 560, 230, 277, 120, 515, 201, 588, 290, 418, 528, 481, 2296, 1006, 238, 334, 340, 559, 350, 446, 288, 356, 483, 515, 312, 215, 544, 975, 340, 629, 639, 149, 264, 270, 350, 620, 439, 438, 378, 250, 611, 614, 101, 328, 535, 253, 521, 325, 1278, 542, 520, 955, 439, 664, 86, 242, 436, 138, 337, 455, 485, 357, 605, 787, 837, 460, 634, 820, 1375, 416, 901, 577, 248, 368, 339, 254, 104, 367, 795, 257, 301, 758, 565, 1036, 731, 253, 540, 190, 595, 517, 247, 370, 378, 762, 154, 626, 253, 931, 939, 593, 614, 585, 276, 316, 252, 731, 454, 671, 194, 125, 161, 705, 248, 529, 224, 90, 1114, 277, 284, 504, 320, 454, 543, 413, 433, 495, 1094, 45, 177, 1839, 2624, 4229, 345, 364, 262, 645, 499, 305, 104, 908, 227, 744, 520, 469, 481, 524, 452, 863, 335, 876, 1604, 402, 306, 398, 199, 582, 766, 765, 785, 127, 351, 448, 452, 293, 817, 293, 480, 462, 436, 710, 860, 304, 163, 306, 832, 195, 546, 196, 127, 1057, 486, 146, 689, 509, 74, 131, 1046, 356, 411, 592, 263, 485, 994, 848, 157, 70, 573, 263, 433, 388, 2751, 570, 635, 515, 417, 294, 207, 754, 760, 77, 2022, 873, 273, 373, 732, 303, 627, 264, 401, 604, 409, 478, 702, 84, 380, 241, 336, 104, 428, 480, 418, 271, 121, 281, 56, 665, 592, 382, 962, 193, 729, 655, 221, 514, 431, 218, 808, 153, 321, 369, 315, 686, 490, 1019, 870, 175, 617, 762, 36, 1141, 403, 354, 335, 419, 366, 460, 508, 549, 603, 528, 537, 182, 635, 408, 623, 201, 163, 559, 211, 381, 456, 815, 531, 367, 499, 206, 342, 333, 419, 195, 378, 881, 236, 1364, 590, 409, 526, 800, 177, 79, 507, 436, 533, 288, 492, 685, 175, 376, 351, 309, 196, 198, 208, 823, 552, 269, 773, 395, 351, 176, 598, 456, 415, 490, 1324, 226, 347, 91, 990, 811, 1032, 3159, 213, 863, 566, 724, 189, 733, 262, 264, 320, 207, 447, 311, 417, 288, 529, 442, 62, 308, 1191, 859, 372, 458, 315, 181, 321, 1396, 262, 105, 472, 610, 615, 69, 210, 584, 103, 294, 183, 566, 949, 1049, 307, 321, 658, 415, 218, 920, 174, 250, 205, 236, 320, 867, 294, 248, 283, 703, 720, 473, 443, 659, 318, 423, 774, 364, 239, 400, 303, 452, 768, 484, 568, 735, 366, 32, 264, 722, 551, 169, 183, 186, 553, 584, 546, 369, 148, 320, 159, 130, 1077, 259, 279, 149, 425, 243, 334, 357, 516, 503, 223, 272, 1629, 406, 807, 1020, 252, 301, 463, 409, 691, 202, 767, 280, 948, 392, 570, 634, 148, 495, 81, 164, 846, 320, 585, 272, 751, 285, 273, 988, 273, 905, 879, 672, 247, 174, 363, 789, 346, 520, 466, 174, 373, 512, 146, 329, 393, 344, 137, 373, 1061, 462, 410, 722, 148, 648, 373, 357, 110, 356, 813, 680, 561, 975, 192, 573, 391, 879, 474, 243, 398, 291, 800, 318, 427, 477, 524, 1286, 203, 351, 1732, 546, 585, 505, 473, 723, 242, 6884, 208, 482, 205, 456, 234, 161, 218, 464, 91, 357, 306, 227, 601, 777, 234, 629, 331, 223, 502, 570, 556, 143, 361, 346, 292, 581, 538, 695, 156, 952, 411, 716, 204, 322, 259, 928, 59, 319, 508, 766, 158, 192, 970, 1321, 387, 522, 53, 543, 392, 136, 193, 138, 748, 544, 459, 327, 412, 984, 832, 543, 859, 94, 705, 541, 524, 149, 221, 799, 455, 806, 389, 610, 269, 536, 292, 740, 967, 756, 709, 351, 451, 294, 298, 137, 313, 122, 96, 292, 827, 603, 491, 52, 303, 362, 559, 584, 233, 463, 518, 79, 628, 1037, 545, 405, 292, 462, 568, 447, 724, 194, 331, 1148, 553, 252, 216, 197, 7498, 1011, 662, 636, 169, 313, 686, 272, 195, 552, 211, 568, 309, 177, 166, 448, 240, 493, 2578, 301, 250, 291, 348, 622, 433, 446, 307, 326, 357, 601, 506, 667, 325, 302, 965, 391, 334, 618, 413, 336, 850, 335, 420, 146, 584, 1505, 361, 535, 365, 286, 379, 486, 451, 348, 70, 166, 309, 110, 272, 578, 255, 672, 654, 397, 379, 180, 558, 768, 315, 545, 94, 576, 354, 406, 375, 288, 252, 361, 197, 235, 327, 378, 523, 1354, 458, 432, 84, 700, 339, 377, 941, 369, 446, 473, 352, 273, 375, 210, 201, 473, 492, 489, 475, 264, 456, 509, 288, 231, 759, 265, 329, 724, 185, 705, 266, 470, 673, 614, 777, 78, 186, 873, 341, 864, 357, 564, 246, 172, 110, 177, 728, 575, 505, 39, 406, 540, 2677, 66, 386, 497, 176, 136, 585, 779, 83, 269, 495, 420, 699, 644, 380, 653, 770, 161, 787, 446, 445, 682, 223, 152, 729, 408, 557, 241, 102, 674, 679, 361, 261, 442, 1052, 380, 368, 480, 606, 585, 313, 156, 534, 224, 400, 1169, 430, 198, 316, 271, 202, 907, 810, 493, 44, 643, 392, 744, 676, 373, 619, 680, 476, 512, 362, 212, 49, 392, 847, 88, 706, 483, 354, 1394, 304, 1983, 189, 91, 142, 648, 182, 341, 433, 197, 887, 521, 364, 480, 522, 481, 530, 1364, 385, 162, 175, 784, 427, 534, 366, 186, 554, 300, 404, 225, 364, 924, 760, 838, 321, 231, 169, 331, 426, 286, 1020, 581, 411, 319, 548, 456, 192, 1195, 631, 687, 154, 574, 476, 230, 491, 467, 327, 521, 453, 342, 659, 273, 824, 224, 1008, 452, 447, 319, 459, 1039, 7163, 369, 949, 257, 624, 796, 614, 1742, 743, 459, 485, 321, 296, 457, 47, 281, 336, 558, 561, 340, 421, 1330, 819, 326, 310, 346, 114, 337, 465, 652, 492, 469, 209, 547, 226, 978, 196, 745, 497, 720, 504, 41, 390, 624, 380, 688, 760, 824, 432, 542, 1309, 210, 584, 498, 677, 428, 577, 543, 118, 355, 121, 223, 488, 598, 393, 474, 328, 444, 1364, 320, 939, 191, 662, 662, 88, 874, 585, 7651, 1436, 676, 469, 470, 1853, 907, 521, 343, 138, 1128, 593, 226, 1462, 151, 385, 348, 403, 820, 373, 173, 870, 303, 290, 144, 693, 1138, 432, 265, 129, 498, 836, 407, 237, 270, 1504, 497, 441, 578, 271, 629, 627, 361, 910, 314, 833, 391, 413, 314, 286, 647, 222, 822, 569, 484, 426, 372, 884, 698, 1275, 878, 667, 1166, 317, 327, 226, 473, 523, 386, 250, 530, 214, 381, 485, 480, 719, 1143, 731, 368, 311, 157, 344, 364, 889, 331, 92, 236, 1030, 494, 746, 281, 379, 494, 297, 2534, 97, 194, 1364, 342, 282, 539, 344, 305, 1010, 250, 328, 317, 257, 195, 167, 447, 201, 981, 73, 48, 711, 287, 386, 339, 927, 367, 253, 367, 571, 657, 477, 989, 331, 674, 840, 579, 507, 1395, 431, 468, 627, 1556, 534, 897, 275, 451, 178, 1256, 467, 419, 256, 427, 178, 265, 391, 307, 392, 341, 582, 1352, 341, 408, 555, 751, 565, 319, 544, 413, 457, 456, 270, 591, 494, 393, 336, 517, 336, 799, 60, 369, 243, 229, 246, 540, 339, 1017, 530, 341, 512, 261, 1352, 709, 367, 535, 189, 286, 504, 2, 492, 365, 301, 315, 304, 1707, 584, 579, 556, 294, 440, 332, 723, 269, 367, 669, 483, 426, 692, 373, 276, 355, 594, 32, 385, 36, 752, 471, 342, 658, 98, 223, 51, 701, 311, 499, 456, 111, 861, 500, 236, 389, 299, 1111, 475, 381, 661, 2213, 165, 2906, 855, 601, 708, 464, 87, 834, 367, 756, 362, 188, 443, 605, 1757, 6647, 477, 632, 147, 564, 643, 689, 361, 601, 227, 112, 213, 482, 371, 328, 517, 606, 499, 219, 512, 301, 135, 655, 193, 372, 167, 545, 297, 575, 115, 110, 690, 334, 675, 474, 171, 269, 307, 257, 307, 575, 600, 685, 57, 522, 436, 266, 100, 347, 359, 311, 423, 317, 158, 53, 473, 611, 204, 326, 244, 1057, 263, 788, 655, 471, 504, 549, 403, 440, 595, 293, 625, 167, 419, 1062, 1213, 492, 715, 301, 439, 416, 189, 568, 44, 656, 308, 525, 474, 1117, 233, 1230, 481, 848, 1610, 745, 298, 1015, 269, 335, 571, 367, 585, 356, 658, 282, 2624, 248, 98, 280, 592, 382, 458, 393, 270, 297, 294, 521, 154, 281, 496, 289, 472, 240, 629, 1358, 924, 447, 614, 337, 372, 296, 342, 438, 449, 584, 333, 311, 3645, 592, 334, 38, 629, 692, 407, 841, 875, 438, 541, 247, 422, 470, 292, 475, 673, 919, 1807, 386, 609, 71, 544, 749]\n",
      "New Delhi, Feb 26 (PTI) Soon, the students and the faculty members of around 10,000 engineering colleges in the country will be able to register their complaints and grievances online. The All India Council for Technical Education (AICTE), which regulates technical education in the country, has asked all the institutions, affiliated to it, \"to urgently put in place an online mechanism, if not presently existing, for registering and disposing of grievances\". According to a latest AICTE directive, the HRD Ministry has stressed the need to have a mechanism for online registration as well as disposal of the grievances not only of the students but also the faculty members and the other stakeholders. The effectiveness of the online grievance redressal system will be a factor at the time of granting of the annual approval to an institution by the AICTE. \"Every institution should be able to receive and dispose off the grievances online,\" said the missive, signed by AICTE chief Anil Sahasrabudhe and addressed to the heads of all the AICTE-approved technical institutions. As per directive, each of these institutions will have to put up a notice board or flex board fixed near the office of the Head, giving details of the online grievance redressal mechanism like its URL, names, contact numbers and e-mail addresses of members of the Grievance committee etc. \n",
      "[368, 10619, 6, 8037, 2208, 41, 6383, 196, 61, 14902, 6, 8, 481, 11, 8, 6040, 724, 13, 300, 13923, 3867, 12936, 16, 8, 684, 56, 36, 3, 179, 12, 3691, 70, 11244, 11, 20214, 663, 7, 367, 5, 37, 432, 1547, 2063, 21, 10728, 2855, 41, 188, 4666, 3463, 201, 84, 16363, 7, 2268, 1073, 16, 8, 684, 6, 65, 1380, 66, 8, 4222, 6, 18273, 12, 34, 6, 96, 235, 10839, 120, 474, 16, 286, 46, 367, 8557, 6, 3, 99, 59, 3, 25390, 1895, 6, 21, 3, 23455, 11, 18815, 53, 13, 20214, 663, 7, 1280, 2150, 12, 3, 9, 1251, 71, 4666, 3463, 21130, 6, 8, 8383, 308, 7849, 65, 14718, 8, 174, 12, 43, 3, 9, 8557, 21, 367, 3816, 38, 168, 38, 12375, 13, 8, 20214, 663, 7, 59, 163, 13, 8, 481, 68, 92, 8, 6040, 724, 11, 8, 119, 10588, 5, 37, 9570, 13, 8, 367, 20214, 663, 3, 60, 12039, 138, 358, 56, 36, 3, 9, 2945, 44, 8, 97, 13, 3, 29050, 13, 8, 2041, 5142, 12, 46, 6568, 57, 8, 71, 4666, 3463, 5, 96, 18403, 6568, 225, 36, 3, 179, 12, 911, 11, 9067, 326, 8, 20214, 663, 7, 367, 976, 243, 8, 3041, 757, 6, 3814, 57, 71, 4666, 3463, 5752, 389, 173, 1138, 10293, 52, 9, 11073, 88, 11, 8705, 12, 8, 7701, 13, 66, 8, 71, 4666, 3463, 18, 24496, 2268, 4222, 5, 282, 399, 21130, 6, 284, 13, 175, 4222, 56, 43, 12, 474, 95, 3, 9, 2103, 1476, 42, 3, 8902, 1476, 3599, 1084, 8, 828, 13, 8, 3642, 6, 1517, 1030, 13, 8, 367, 20214, 663, 3, 60, 12039, 138, 8557, 114, 165, 8889, 6, 3056, 6, 574, 2302, 11, 3, 15, 18, 1963, 7181, 13, 724, 13, 8, 26039, 208, 663, 4492, 672, 5, 1]\n"
     ]
    }
   ],
   "source": [
    "print(text_token_count)\n",
    "print(text_token_counts)\n",
    "print(train_df.iloc[2]['text'])\n",
    "print(toekenizer.encode(train_df.iloc[2]['text']))"
   ],
   "metadata": {
    "collapsed": false,
    "pycharm": {
     "name": "#%%\n"
    }
   }
  },
  {
   "cell_type": "code",
   "execution_count": 41,
   "outputs": [
    {
     "ename": "KeyboardInterrupt",
     "evalue": "",
     "output_type": "error",
     "traceback": [
      "\u001B[0;31m---------------------------------------------------------------------------\u001B[0m",
      "\u001B[0;31mKeyboardInterrupt\u001B[0m                         Traceback (most recent call last)",
      "Cell \u001B[0;32mIn [41], line 6\u001B[0m\n\u001B[1;32m      3\u001B[0m sns\u001B[38;5;241m.\u001B[39mhistplot(text_token_counts, ax\u001B[38;5;241m=\u001B[39max1)\n\u001B[1;32m      4\u001B[0m ax1\u001B[38;5;241m.\u001B[39mset_title(\u001B[38;5;124m\"\u001B[39m\u001B[38;5;124mfull text token counts\u001B[39m\u001B[38;5;124m\"\u001B[39m)\n\u001B[0;32m----> 6\u001B[0m \u001B[43msns\u001B[49m\u001B[38;5;241;43m.\u001B[39;49m\u001B[43mhistplot\u001B[49m\u001B[43m(\u001B[49m\u001B[43msummary_token_counts\u001B[49m\u001B[43m,\u001B[49m\u001B[43m \u001B[49m\u001B[43max\u001B[49m\u001B[38;5;241;43m=\u001B[39;49m\u001B[43max2\u001B[49m\u001B[43m)\u001B[49m\n\u001B[1;32m      7\u001B[0m ax2\u001B[38;5;241m.\u001B[39mset_title(\u001B[38;5;124m\"\u001B[39m\u001B[38;5;124mfull text token counts\u001B[39m\u001B[38;5;124m\"\u001B[39m)\n",
      "File \u001B[0;32m~/opt/anaconda3/envs/ai/lib/python3.10/site-packages/seaborn/distributions.py:1395\u001B[0m, in \u001B[0;36mhistplot\u001B[0;34m(data, x, y, hue, weights, stat, bins, binwidth, binrange, discrete, cumulative, common_bins, common_norm, multiple, element, fill, shrink, kde, kde_kws, line_kws, thresh, pthresh, pmax, cbar, cbar_ax, cbar_kws, palette, hue_order, hue_norm, color, log_scale, legend, ax, **kwargs)\u001B[0m\n\u001B[1;32m   1374\u001B[0m \u001B[38;5;28;01mdef\u001B[39;00m \u001B[38;5;21mhistplot\u001B[39m(\n\u001B[1;32m   1375\u001B[0m     data\u001B[38;5;241m=\u001B[39m\u001B[38;5;28;01mNone\u001B[39;00m, \u001B[38;5;241m*\u001B[39m,\n\u001B[1;32m   1376\u001B[0m     \u001B[38;5;66;03m# Vector variables\u001B[39;00m\n\u001B[0;32m   (...)\u001B[0m\n\u001B[1;32m   1392\u001B[0m     \u001B[38;5;241m*\u001B[39m\u001B[38;5;241m*\u001B[39mkwargs,\n\u001B[1;32m   1393\u001B[0m ):\n\u001B[0;32m-> 1395\u001B[0m     p \u001B[38;5;241m=\u001B[39m \u001B[43m_DistributionPlotter\u001B[49m\u001B[43m(\u001B[49m\n\u001B[1;32m   1396\u001B[0m \u001B[43m        \u001B[49m\u001B[43mdata\u001B[49m\u001B[38;5;241;43m=\u001B[39;49m\u001B[43mdata\u001B[49m\u001B[43m,\u001B[49m\n\u001B[1;32m   1397\u001B[0m \u001B[43m        \u001B[49m\u001B[43mvariables\u001B[49m\u001B[38;5;241;43m=\u001B[39;49m\u001B[43m_DistributionPlotter\u001B[49m\u001B[38;5;241;43m.\u001B[39;49m\u001B[43mget_semantics\u001B[49m\u001B[43m(\u001B[49m\u001B[38;5;28;43mlocals\u001B[39;49m\u001B[43m(\u001B[49m\u001B[43m)\u001B[49m\u001B[43m)\u001B[49m\n\u001B[1;32m   1398\u001B[0m \u001B[43m    \u001B[49m\u001B[43m)\u001B[49m\n\u001B[1;32m   1400\u001B[0m     p\u001B[38;5;241m.\u001B[39mmap_hue(palette\u001B[38;5;241m=\u001B[39mpalette, order\u001B[38;5;241m=\u001B[39mhue_order, norm\u001B[38;5;241m=\u001B[39mhue_norm)\n\u001B[1;32m   1402\u001B[0m     \u001B[38;5;28;01mif\u001B[39;00m ax \u001B[38;5;129;01mis\u001B[39;00m \u001B[38;5;28;01mNone\u001B[39;00m:\n",
      "File \u001B[0;32m~/opt/anaconda3/envs/ai/lib/python3.10/site-packages/seaborn/distributions.py:113\u001B[0m, in \u001B[0;36m_DistributionPlotter.__init__\u001B[0;34m(self, data, variables)\u001B[0m\n\u001B[1;32m    107\u001B[0m \u001B[38;5;28;01mdef\u001B[39;00m \u001B[38;5;21m__init__\u001B[39m(\n\u001B[1;32m    108\u001B[0m     \u001B[38;5;28mself\u001B[39m,\n\u001B[1;32m    109\u001B[0m     data\u001B[38;5;241m=\u001B[39m\u001B[38;5;28;01mNone\u001B[39;00m,\n\u001B[1;32m    110\u001B[0m     variables\u001B[38;5;241m=\u001B[39m{},\n\u001B[1;32m    111\u001B[0m ):\n\u001B[0;32m--> 113\u001B[0m     \u001B[38;5;28;43msuper\u001B[39;49m\u001B[43m(\u001B[49m\u001B[43m)\u001B[49m\u001B[38;5;241;43m.\u001B[39;49m\u001B[38;5;21;43m__init__\u001B[39;49m\u001B[43m(\u001B[49m\u001B[43mdata\u001B[49m\u001B[38;5;241;43m=\u001B[39;49m\u001B[43mdata\u001B[49m\u001B[43m,\u001B[49m\u001B[43m \u001B[49m\u001B[43mvariables\u001B[49m\u001B[38;5;241;43m=\u001B[39;49m\u001B[43mvariables\u001B[49m\u001B[43m)\u001B[49m\n",
      "File \u001B[0;32m~/opt/anaconda3/envs/ai/lib/python3.10/site-packages/seaborn/_oldcore.py:640\u001B[0m, in \u001B[0;36mVectorPlotter.__init__\u001B[0;34m(self, data, variables)\u001B[0m\n\u001B[1;32m    635\u001B[0m \u001B[38;5;66;03m# var_ordered is relevant only for categorical axis variables, and may\u001B[39;00m\n\u001B[1;32m    636\u001B[0m \u001B[38;5;66;03m# be better handled by an internal axis information object that tracks\u001B[39;00m\n\u001B[1;32m    637\u001B[0m \u001B[38;5;66;03m# such information and is set up by the scale_* methods. The analogous\u001B[39;00m\n\u001B[1;32m    638\u001B[0m \u001B[38;5;66;03m# information for numeric axes would be information about log scales.\u001B[39;00m\n\u001B[1;32m    639\u001B[0m \u001B[38;5;28mself\u001B[39m\u001B[38;5;241m.\u001B[39m_var_ordered \u001B[38;5;241m=\u001B[39m {\u001B[38;5;124m\"\u001B[39m\u001B[38;5;124mx\u001B[39m\u001B[38;5;124m\"\u001B[39m: \u001B[38;5;28;01mFalse\u001B[39;00m, \u001B[38;5;124m\"\u001B[39m\u001B[38;5;124my\u001B[39m\u001B[38;5;124m\"\u001B[39m: \u001B[38;5;28;01mFalse\u001B[39;00m}  \u001B[38;5;66;03m# alt., used DefaultDict\u001B[39;00m\n\u001B[0;32m--> 640\u001B[0m \u001B[38;5;28;43mself\u001B[39;49m\u001B[38;5;241;43m.\u001B[39;49m\u001B[43massign_variables\u001B[49m\u001B[43m(\u001B[49m\u001B[43mdata\u001B[49m\u001B[43m,\u001B[49m\u001B[43m \u001B[49m\u001B[43mvariables\u001B[49m\u001B[43m)\u001B[49m\n\u001B[1;32m    642\u001B[0m \u001B[38;5;28;01mfor\u001B[39;00m var, \u001B[38;5;28mcls\u001B[39m \u001B[38;5;129;01min\u001B[39;00m \u001B[38;5;28mself\u001B[39m\u001B[38;5;241m.\u001B[39m_semantic_mappings\u001B[38;5;241m.\u001B[39mitems():\n\u001B[1;32m    643\u001B[0m \n\u001B[1;32m    644\u001B[0m     \u001B[38;5;66;03m# Create the mapping function\u001B[39;00m\n\u001B[1;32m    645\u001B[0m     map_func \u001B[38;5;241m=\u001B[39m partial(\u001B[38;5;28mcls\u001B[39m\u001B[38;5;241m.\u001B[39mmap, plotter\u001B[38;5;241m=\u001B[39m\u001B[38;5;28mself\u001B[39m)\n",
      "File \u001B[0;32m~/opt/anaconda3/envs/ai/lib/python3.10/site-packages/seaborn/_oldcore.py:696\u001B[0m, in \u001B[0;36mVectorPlotter.assign_variables\u001B[0;34m(self, data, variables)\u001B[0m\n\u001B[1;32m    694\u001B[0m \u001B[38;5;28;01mif\u001B[39;00m x \u001B[38;5;129;01mis\u001B[39;00m \u001B[38;5;28;01mNone\u001B[39;00m \u001B[38;5;129;01mand\u001B[39;00m y \u001B[38;5;129;01mis\u001B[39;00m \u001B[38;5;28;01mNone\u001B[39;00m:\n\u001B[1;32m    695\u001B[0m     \u001B[38;5;28mself\u001B[39m\u001B[38;5;241m.\u001B[39minput_format \u001B[38;5;241m=\u001B[39m \u001B[38;5;124m\"\u001B[39m\u001B[38;5;124mwide\u001B[39m\u001B[38;5;124m\"\u001B[39m\n\u001B[0;32m--> 696\u001B[0m     plot_data, variables \u001B[38;5;241m=\u001B[39m \u001B[38;5;28;43mself\u001B[39;49m\u001B[38;5;241;43m.\u001B[39;49m\u001B[43m_assign_variables_wideform\u001B[49m\u001B[43m(\u001B[49m\n\u001B[1;32m    697\u001B[0m \u001B[43m        \u001B[49m\u001B[43mdata\u001B[49m\u001B[43m,\u001B[49m\u001B[43m \u001B[49m\u001B[38;5;241;43m*\u001B[39;49m\u001B[38;5;241;43m*\u001B[39;49m\u001B[43mvariables\u001B[49m\u001B[43m,\u001B[49m\n\u001B[1;32m    698\u001B[0m \u001B[43m    \u001B[49m\u001B[43m)\u001B[49m\n\u001B[1;32m    699\u001B[0m \u001B[38;5;28;01melse\u001B[39;00m:\n\u001B[1;32m    700\u001B[0m     \u001B[38;5;28mself\u001B[39m\u001B[38;5;241m.\u001B[39minput_format \u001B[38;5;241m=\u001B[39m \u001B[38;5;124m\"\u001B[39m\u001B[38;5;124mlong\u001B[39m\u001B[38;5;124m\"\u001B[39m\n",
      "File \u001B[0;32m~/opt/anaconda3/envs/ai/lib/python3.10/site-packages/seaborn/_oldcore.py:754\u001B[0m, in \u001B[0;36mVectorPlotter._assign_variables_wideform\u001B[0;34m(self, data, **kwargs)\u001B[0m\n\u001B[1;32m    752\u001B[0m     values \u001B[38;5;241m=\u001B[39m data\u001B[38;5;241m.\u001B[39mvalues()\n\u001B[1;32m    753\u001B[0m \u001B[38;5;28;01melse\u001B[39;00m:\n\u001B[0;32m--> 754\u001B[0m     values \u001B[38;5;241m=\u001B[39m np\u001B[38;5;241m.\u001B[39matleast_1d(\u001B[43mnp\u001B[49m\u001B[38;5;241;43m.\u001B[39;49m\u001B[43masarray\u001B[49m\u001B[43m(\u001B[49m\u001B[43mdata\u001B[49m\u001B[43m,\u001B[49m\u001B[43m \u001B[49m\u001B[43mdtype\u001B[49m\u001B[38;5;241;43m=\u001B[39;49m\u001B[38;5;28;43mobject\u001B[39;49m\u001B[43m)\u001B[49m)\n\u001B[1;32m    755\u001B[0m flat \u001B[38;5;241m=\u001B[39m \u001B[38;5;129;01mnot\u001B[39;00m \u001B[38;5;28many\u001B[39m(\n\u001B[1;32m    756\u001B[0m     \u001B[38;5;28misinstance\u001B[39m(v, Iterable) \u001B[38;5;129;01mand\u001B[39;00m \u001B[38;5;129;01mnot\u001B[39;00m \u001B[38;5;28misinstance\u001B[39m(v, (\u001B[38;5;28mstr\u001B[39m, \u001B[38;5;28mbytes\u001B[39m))\n\u001B[1;32m    757\u001B[0m     \u001B[38;5;28;01mfor\u001B[39;00m v \u001B[38;5;129;01min\u001B[39;00m values\n\u001B[1;32m    758\u001B[0m )\n\u001B[1;32m    760\u001B[0m \u001B[38;5;28;01mif\u001B[39;00m empty:\n\u001B[1;32m    761\u001B[0m \n\u001B[1;32m    762\u001B[0m     \u001B[38;5;66;03m# Make an object with the structure of plot_data, but empty\u001B[39;00m\n",
      "\u001B[0;31mKeyboardInterrupt\u001B[0m: "
     ]
    },
    {
     "data": {
      "text/plain": "<Figure size 1600x1000 with 2 Axes>",
      "image/png": "[encoded data removed]"
     },
     "metadata": {},
     "output_type": "display_data"
    }
   ],
   "source": [
    "fig, (ax1, ax2) = plt.subplots(1, 2)\n",
    "\n",
    "sns.histplot(text_token_counts, ax=ax1)\n",
    "ax1.set_title(\"full text token counts\")\n",
    "\n",
    "sns.histplot(summary_token_counts, ax=ax2)\n",
    "ax2.set_title(\"summary text token counts\")"
   ],
   "metadata": {
    "collapsed": false,
    "pycharm": {
     "name": "#%%\n"
    }
   }
  },
  {
   "cell_type": "code",
   "execution_count": 42,
   "outputs": [],
   "source": [
    "N_EPOCHS = 3\n",
    "BATCH_SIZE = 8\n",
    "\n",
    "data_module = NewsSummaryDataModule(train_df, test_df, toekenizer, batch_size=BATCH_SIZE)"
   ],
   "metadata": {
    "collapsed": false,
    "pycharm": {
     "name": "#%%\n"
    }
   }
  },
  {
   "cell_type": "markdown",
   "source": [
    "# Model"
   ],
   "metadata": {
    "collapsed": false,
    "pycharm": {
     "name": "#%% md\n"
    }
   }
  },
  {
   "cell_type": "code",
   "execution_count": 43,
   "outputs": [],
   "source": [
    "class NewsSummaryModel(pl.LightningDataModule):\n",
    "\n",
    "    def __init__(self):\n",
    "        super().__init__()\n",
    "        self.model = T5ForConditionalGeneration.from_pretrained(MODEL_NAME, return_dict=True)\n",
    "\n",
    "    def forward(self, input_ids, attention_mask, decoder_attention_mask, labels=None):\n",
    "\n",
    "        output = self.model(\n",
    "            input_ids,\n",
    "            attention_mask=attention_mask,\n",
    "            labels=labels,\n",
    "            decoder_attention_mask=decoder_attention_mask\n",
    "        )\n",
    "\n",
    "        return output.loss, output.logits\n",
    "\n",
    "    def training_step(self, batch, batch_idx):\n",
    "        input_ids = batch['text_input_ids']\n",
    "        attention_mask = batch['text_attention_mask']\n",
    "        labels = batch['labels']\n",
    "        labels_attention_mask = batch['labels_attention_mask']\n",
    "\n",
    "        loss, outputs = self(\n",
    "            input_ids=input_ids,\n",
    "            attention_mask=attention_mask,\n",
    "            decoder_attention_mask=labels_attention_mask,\n",
    "            labels=labels\n",
    "        )\n",
    "\n",
    "        self.log('train_loss', loss, prog_bar=True, logger=True)\n",
    "        return loss\n",
    "\n",
    "    def validation_step(self, batch, batch_idx):\n",
    "        input_ids = batch['text_input_ids']\n",
    "        attention_mask = batch['text_attention_mask']\n",
    "        labels = batch['labels']\n",
    "        labels_attention_mask = batch['labels_attention_mask']\n",
    "\n",
    "        loss, outputs = self(\n",
    "            input_ids=input_ids,\n",
    "            attention_mask=attention_mask,\n",
    "            decoder_attention_mask=labels_attention_mask,\n",
    "            labels=labels\n",
    "        )\n",
    "\n",
    "        self.log('val_loss', loss, prog_bar=True, logger=True)\n",
    "        return loss\n",
    "\n",
    "    def test_step(self, batch, batch_idx):\n",
    "        input_ids = batch['text_input_ids']\n",
    "        attention_mask = batch['text_attention_mask']\n",
    "        labels = batch['labels']\n",
    "        labels_attention_mask = batch['labels_attention_mask']\n",
    "\n",
    "        loss, outputs = self(\n",
    "            input_ids=input_ids,\n",
    "            attention_mask=attention_mask,\n",
    "            decoder_attention_mask=labels_attention_mask,\n",
    "            labels=labels\n",
    "        )\n",
    "\n",
    "        self.log('test_loss', loss, prog_bar=True, logger=True)\n",
    "        return loss\n",
    "\n",
    "    def configure_optimizers(self):\n",
    "        return AdamW(self.parameters(), lr=0.0001)"
   ],
   "metadata": {
    "collapsed": false,
    "pycharm": {
     "name": "#%%\n"
    }
   }
  },
  {
   "cell_type": "code",
   "execution_count": 45,
   "outputs": [
    {
     "data": {
      "text/plain": "Downloading:   0%|          | 0.00/892M [00:00<?, ?B/s]",
      "application/vnd.jupyter.widget-view+json": {
       "version_major": 2,
       "version_minor": 0,
       "model_id": "cf81adf7fd4a44a99db1ed4c7517a698"
      }
     },
     "metadata": {},
     "output_type": "display_data"
    }
   ],
   "source": [
    "model = NewsSummaryModel()"
   ],
   "metadata": {
    "collapsed": false,
    "pycharm": {
     "name": "#%%\n"
    }
   }
  },
  {
   "cell_type": "code",
   "execution_count": 47,
   "outputs": [
    {
     "data": {
      "text/plain": "Launching TensorBoard..."
     },
     "metadata": {},
     "output_type": "display_data"
    },
    {
     "name": "stdout",
     "output_type": "stream",
     "text": [
      "huggingface/tokenizers: The current process just got forked, after parallelism has already been used. Disabling parallelism to avoid deadlocks...\n",
      "To disable this warning, you can either:\n",
      "\t- Avoid using `tokenizers` before the fork if possible\n",
      "\t- Explicitly set the environment variable TOKENIZERS_PARALLELISM=(true | false)\n"
     ]
    }
   ],
   "source": [
    "%load_ext tensorboard\n",
    "%tensorboard --logdir ./lightning_logs"
   ],
   "metadata": {
    "collapsed": false,
    "pycharm": {
     "name": "#%%\n"
    }
   }
  },
  {
   "cell_type": "code",
   "execution_count": 51,
   "outputs": [
    {
     "ename": "TypeError",
     "evalue": "Trainer.__init__() got an unexpected keyword argument 'checkpoint_callback'",
     "output_type": "error",
     "traceback": [
      "\u001B[0;31m---------------------------------------------------------------------------\u001B[0m",
      "\u001B[0;31mTypeError\u001B[0m                                 Traceback (most recent call last)",
      "Cell \u001B[0;32mIn [51], line 12\u001B[0m\n\u001B[1;32m      1\u001B[0m checkpoint_callback \u001B[38;5;241m=\u001B[39m ModelCheckpoint(\n\u001B[1;32m      2\u001B[0m     dirpath\u001B[38;5;241m=\u001B[39m\u001B[38;5;124m'\u001B[39m\u001B[38;5;124mcheckpoints\u001B[39m\u001B[38;5;124m'\u001B[39m,\n\u001B[1;32m      3\u001B[0m     filename\u001B[38;5;241m=\u001B[39m\u001B[38;5;124m'\u001B[39m\u001B[38;5;124mbest-checkpoint\u001B[39m\u001B[38;5;124m'\u001B[39m,\n\u001B[0;32m   (...)\u001B[0m\n\u001B[1;32m      7\u001B[0m     mode\u001B[38;5;241m=\u001B[39m\u001B[38;5;124m'\u001B[39m\u001B[38;5;124mmin\u001B[39m\u001B[38;5;124m'\u001B[39m\n\u001B[1;32m      8\u001B[0m )\n\u001B[1;32m     10\u001B[0m logger \u001B[38;5;241m=\u001B[39m TensorBoardLogger(\u001B[38;5;124m'\u001B[39m\u001B[38;5;124mlightning_logs\u001B[39m\u001B[38;5;124m'\u001B[39m, name\u001B[38;5;241m=\u001B[39m\u001B[38;5;124m'\u001B[39m\u001B[38;5;124mnews-summary\u001B[39m\u001B[38;5;124m'\u001B[39m)\n\u001B[0;32m---> 12\u001B[0m trainer \u001B[38;5;241m=\u001B[39m \u001B[43mpl\u001B[49m\u001B[38;5;241;43m.\u001B[39;49m\u001B[43mTrainer\u001B[49m\u001B[43m(\u001B[49m\n\u001B[1;32m     13\u001B[0m \u001B[43m    \u001B[49m\u001B[43mlogger\u001B[49m\u001B[38;5;241;43m=\u001B[39;49m\u001B[43mlogger\u001B[49m\u001B[43m,\u001B[49m\n\u001B[1;32m     14\u001B[0m \u001B[43m    \u001B[49m\u001B[43mcheckpoint_callback\u001B[49m\u001B[38;5;241;43m=\u001B[39;49m\u001B[43mcheckpoint_callback\u001B[49m\u001B[43m,\u001B[49m\n\u001B[1;32m     15\u001B[0m \u001B[43m    \u001B[49m\u001B[43mmax_epochs\u001B[49m\u001B[38;5;241;43m=\u001B[39;49m\u001B[43mN_EPOCHS\u001B[49m\u001B[43m,\u001B[49m\n\u001B[1;32m     16\u001B[0m \u001B[43m    \u001B[49m\u001B[43mprogress_bar_refresh_rate\u001B[49m\u001B[38;5;241;43m=\u001B[39;49m\u001B[38;5;241;43m30\u001B[39;49m\n\u001B[1;32m     17\u001B[0m \u001B[43m)\u001B[49m\n",
      "File \u001B[0;32m~/opt/anaconda3/envs/ai/lib/python3.10/site-packages/pytorch_lightning/utilities/argparse.py:345\u001B[0m, in \u001B[0;36m_defaults_from_env_vars.<locals>.insert_env_defaults\u001B[0;34m(self, *args, **kwargs)\u001B[0m\n\u001B[1;32m    342\u001B[0m kwargs \u001B[38;5;241m=\u001B[39m \u001B[38;5;28mdict\u001B[39m(\u001B[38;5;28mlist\u001B[39m(env_variables\u001B[38;5;241m.\u001B[39mitems()) \u001B[38;5;241m+\u001B[39m \u001B[38;5;28mlist\u001B[39m(kwargs\u001B[38;5;241m.\u001B[39mitems()))\n\u001B[1;32m    344\u001B[0m \u001B[38;5;66;03m# all args were already moved to kwargs\u001B[39;00m\n\u001B[0;32m--> 345\u001B[0m \u001B[38;5;28;01mreturn\u001B[39;00m \u001B[43mfn\u001B[49m\u001B[43m(\u001B[49m\u001B[38;5;28;43mself\u001B[39;49m\u001B[43m,\u001B[49m\u001B[43m \u001B[49m\u001B[38;5;241;43m*\u001B[39;49m\u001B[38;5;241;43m*\u001B[39;49m\u001B[43mkwargs\u001B[49m\u001B[43m)\u001B[49m\n",
      "\u001B[0;31mTypeError\u001B[0m: Trainer.__init__() got an unexpected keyword argument 'checkpoint_callback'"
     ]
    }
   ],
   "source": [
    "checkpoint_callback = ModelCheckpoint(\n",
    "    dirpath='checkpoints',\n",
    "    filename='best-checkpoint',\n",
    "    save_top_k=1,\n",
    "    verbose=True,\n",
    "    monitor='val_loss',\n",
    "    mode='min'\n",
    ")\n",
    "\n",
    "logger = TensorBoardLogger('lightning_logs', name='news-summary')\n",
    "\n",
    "trainer = pl.Trainer(\n",
    "    logger=logger,\n",
    "    checkpoint_callback=checkpoint_callback,\n",
    "    gpus=1,\n",
    "    max_epochs=N_EPOCHS,\n",
    "    progress_bar_refresh_rate=30\n",
    ")"
   ],
   "metadata": {
    "collapsed": false,
    "pycharm": {
     "name": "#%%\n"
    }
   }
  },
  {
   "cell_type": "code",
   "execution_count": null,
   "outputs": [],
   "source": [
    "trainer.fit(model, data_module)"
   ],
   "metadata": {
    "collapsed": false,
    "pycharm": {
     "name": "#%%\n"
    }
   }
  },
  {
   "cell_type": "code",
   "execution_count": null,
   "outputs": [],
   "source": [
    "trained_model = NewsSummaryModel.load_from_checkpoint(\n",
    "    trainer.checkpoint_callback.best_model_path\n",
    ")\n",
    "\n",
    "trained_model.freeze()"
   ],
   "metadata": {
    "collapsed": false,
    "pycharm": {
     "name": "#%%\n"
    }
   }
  },
  {
   "cell_type": "code",
   "execution_count": null,
   "outputs": [],
   "source": [
    "def summarize(text):\n",
    "    text_encoding = toekenizer(\n",
    "        text,\n",
    "        max_length=512,\n",
    "        padding=\"max_length\",\n",
    "        truncation=True,\n",
    "        return_attention_mask=True,\n",
    "        add_special_tokens=True,\n",
    "        return_tensors='pt'\n",
    "               )\n",
    "\n",
    "    generated_ids = trained_model.model.generate(\n",
    "        input_ids=text_encoding['input_ids'],\n",
    "        attention_mask=text_encoding['attention_mask'],\n",
    "        max_length=150,\n",
    "        num_beams=2,\n",
    "        repetition_penalty=2.5,\n",
    "        length_penalty=1.0,\n",
    "        early_stopping=True\n",
    "    )\n",
    "\n",
    "    preds = [\n",
    "        toekenizer.decode(gen_id, skip_special_tokens=True, clean_up_tokenization_spaces=True)\n",
    "        for gen_id in generated_ids\n",
    "    ]\n",
    "\n",
    "    return \"\".join(preds)"
   ],
   "metadata": {
    "collapsed": false,
    "pycharm": {
     "name": "#%%\n"
    }
   }
  },
  {
   "cell_type": "code",
   "execution_count": null,
   "outputs": [],
   "source": [
    "sample_row = test_df.iloc[0]\n",
    "text = sample_row['text']\n",
    "model_summary = summarize(text)"
   ],
   "metadata": {
    "collapsed": false,
    "pycharm": {
     "name": "#%%\n"
    }
   }
  },
  {
   "cell_type": "code",
   "execution_count": null,
   "outputs": [],
   "source": [
    "text"
   ],
   "metadata": {
    "collapsed": false,
    "pycharm": {
     "name": "#%%\n"
    }
   }
  },
  {
   "cell_type": "code",
   "execution_count": null,
   "outputs": [],
   "source": [
    "sample_row['summary']"
   ],
   "metadata": {
    "collapsed": false,
    "pycharm": {
     "name": "#%%\n"
    }
   }
  },
  {
   "cell_type": "code",
   "execution_count": null,
   "outputs": [],
   "source": [
    "model_summary"
   ],
   "metadata": {
    "collapsed": false,
    "pycharm": {
     "name": "#%%\n"
    }
   }
  }
 ],
 "metadata": {
  "kernelspec": {
   "display_name": "Python 3",
   "language": "python",
   "name": "python3"
  },
  "language_info": {
   "codemirror_mode": {
    "name": "ipython",
    "version": 2
   },
   "file_extension": ".py",
   "mimetype": "text/x-python",
   "name": "python",
   "nbconvert_exporter": "python",
   "pygments_lexer": "ipython2",
   "version": "2.7.6"
  }
 },
 "nbformat": 4,
 "nbformat_minor": 0
}